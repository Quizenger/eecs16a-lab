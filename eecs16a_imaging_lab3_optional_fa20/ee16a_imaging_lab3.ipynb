{
 "cells": [
  {
   "cell_type": "markdown",
   "metadata": {},
   "source": [
    "# Imaging Lab 3 (optional component): Multipixel Scanning using the real light sensor and your computer monitor\n",
    "\n",
    "## EECS 16A: Designing Information Devices and Systems I, Fall 2020\n",
    "\n",
    "<!-- Any problems with lab deployment? Send an e-mail to Angie: angie.wang@eecs.berkeley.edu -->"
   ]
  },
  {
   "cell_type": "markdown",
   "metadata": {},
   "source": [
    "\n",
    "## Table of Contents\n",
    "\n",
    "#### [Hardware Setup](#breadboardSetup)\n",
    "#### [Single-pixel scan](#realImaging_scan)\n",
    "#### [Multipixel Imaging](#realImaging)\n",
    "* [Hadamard matrix](#hadamard)\n",
    "* [Random matrix](#random)\n"
   ]
  },
  {
   "cell_type": "markdown",
   "metadata": {},
   "source": [
    "\n",
    "\n",
    "**<span style = \"color: red\">Run the following code block to get access to several pre-written functions and helper libraries.</span>**"
   ]
  },
  {
   "cell_type": "code",
   "execution_count": 1,
   "metadata": {},
   "outputs": [],
   "source": [
    "%run scripts/helpers.py\n",
    "%matplotlib inline"
   ]
  },
  {
   "cell_type": "markdown",
   "metadata": {},
   "source": [
    "# Hardware setup: follow the instructions [here](https://docs.google.com/document/d/1qEMy6iSU7u73d7S0fvz_TE4xctNfTcPqz9Lx7x-hExk/edit?usp=sharing) **<span style=\"color:red\"> Note, this needs to be updated to match the EE16A style </span>\n",
    "\n"
   ]
  },
  {
   "cell_type": "markdown",
   "metadata": {},
   "source": [
    "<a id='realImaging_scan'></a>\n",
    "### <span style=\"color:blue\">Single Pixel Sanity Check</span>\n",
    "\n",
    "When dealing with a complicated system, it is often useful to perform a \"sanity check\" to make sure that a simpler subset of the system is working as expected, before adding more complexity. Let's make sure that the single pixel imager from Imaging Lab 2 works. \n",
    "\n",
    "**<span style=\"color:red\">Create $H_{Single}$ for images/masks with dimensions 32x32. How many rows should it have? Note that $H_{Single}$ is the identity matrix (but it has different dimensions from $H$ in Lab 2)!</span>**"
   ]
  },
  {
   "cell_type": "code",
   "execution_count": 2,
   "metadata": {},
   "outputs": [
    {
     "data": {
      "image/png": "[encoded data removed]",
      "text/plain": [
       "<Figure size 432x432 with 1 Axes>"
      ]
     },
     "metadata": {
      "needs_background": "light"
     },
     "output_type": "display_data"
    }
   ],
   "source": [
    "# TODO: Recreate `HSingle` to scan a 32x32 image. `HSingle` is the identity matrix.\n",
    "HSingle =np.eye(32*32) # YOUR CODE HERE\n",
    "\n",
    "plt.figure(figsize = (6, 6))\n",
    "plt.imshow(HSingle, cmap = 'gray', interpolation = 'nearest')\n",
    "np.save('HSingle.npy', HSingle)"
   ]
  },
  {
   "cell_type": "markdown",
   "metadata": {},
   "source": [
    "Now, let's load in an image to display. "
   ]
  },
  {
   "cell_type": "code",
   "execution_count": 3,
   "metadata": {},
   "outputs": [],
   "source": [
    "from PIL import Image \n",
    "  \n",
    "filename = 'data/img_16a_32_32.png'\n",
    "loaded = Image.open(filename);"
   ]
  },
  {
   "cell_type": "code",
   "execution_count": 4,
   "metadata": {
    "scrolled": true
   },
   "outputs": [
    {
     "data": {
      "text/plain": [
       "<matplotlib.image.AxesImage at 0x7fc86053d4a8>"
      ]
     },
     "execution_count": 4,
     "metadata": {},
     "output_type": "execute_result"
    },
    {
     "data": {
      "image/png": "[encoded data removed]",
      "text/plain": [
       "<Figure size 432x288 with 1 Axes>"
      ]
     },
     "metadata": {
      "needs_background": "light"
     },
     "output_type": "display_data"
    }
   ],
   "source": [
    "im = np.array(loaded).astype('float32')[:,:,0]/255.\n",
    "\n",
    "plt.imshow(im, cmap = 'gray')"
   ]
  },
  {
   "cell_type": "markdown",
   "metadata": {},
   "source": [
    "Here's a function that will take your H matrix and digitally project it onto your image (slice by slice). This will output a matrix which we will then save and use to display on the computer monitor.  "
   ]
  },
  {
   "cell_type": "code",
   "execution_count": 5,
   "metadata": {},
   "outputs": [],
   "source": [
    "def project_H_onto_image(H, img, sz):\n",
    "    H_new = np.zeros_like(H)\n",
    "    for i in range(sz*sz):\n",
    "        mask = np.reshape(H[i, :], (sz, sz))\n",
    "        curr_scan = np.multiply(img, mask)       # Perform a scan using element wise multiplication\n",
    "\n",
    "        H_new[i,:] = np.reshape(curr_scan, (sz*sz))\n",
    "    return H_new"
   ]
  },
  {
   "cell_type": "code",
   "execution_count": 6,
   "metadata": {},
   "outputs": [],
   "source": [
    "masked_image_identity = project_H_onto_image(HSingle, im, 32)"
   ]
  },
  {
   "cell_type": "code",
   "execution_count": 8,
   "metadata": {},
   "outputs": [],
   "source": [
    "np.save('saved_data/mask_identity.npy', masked_image_identity)\n",
    "np.save('saved_data/Hsingle.npy', HSingle)"
   ]
  },
  {
   "cell_type": "markdown",
   "metadata": {},
   "source": [
    "**<span style=\"color:red\">Double check that you've done the following before proceeding:</span>**\n",
    "\n",
    "* Upload `AnalogReadSerial` to the Launchpad.\n",
    "\n",
    "* Close the Energia Serial Monitor.\n",
    "\n",
    "* Make sure that the ambient light sensor is aimed at the the bottom right corner of your laptop or screen! The legs should not be touching.\n"
   ]
  },
  {
   "cell_type": "markdown",
   "metadata": {},
   "source": [
    "### Check again that you have closed the Energia Serial Monitor. You will not be able to scan otherwise."
   ]
  },
  {
   "cell_type": "markdown",
   "metadata": {},
   "source": [
    "**<span style=\"color:red\">You will then run the `capture_image.py` script from the following code block that projects mask patterns from $H_{Single}$ onto your image.</span>** \n",
    "\n",
    "When running **`capture_image.py`**, a new icon shaped like a white web will appear in the taskbar. The window depicting our masks will appear on the projector's screen.\n",
    "\n",
    "Before scanning, you will be prompted to specify the **COM port used by the Launchpad and the display associated with the projector.** \n",
    "\n",
    "**Select the COM port associated with UART1 (previously accessed in the Energia Serial Monitor and found using the Device Manager) and the screen that has your light sensor in front of it.** Note that you want to specify the index of your choice i.e. for `2) 1280 x 720`, specify 2.  If you have multiple screens, you can use trial and error to find that right one (an icon will appear on the screen you select) **<span style=\"color:red\">Make sure that you've selected the correct COM port!</span>**\n",
    "\n",
    "`capture_image.py` iterates over the rows of the $H$ matrix you made. These rows are translated, one-by-one, into real masks projected onto the screen. Light sensor readings are taken for each mask. At the start of the scan, you'll see a series of `Loc: # Data: #` printed to the output below. `Loc` corresponds to the index $k$ of the current sensor reading (and likewise current row of H). `Data` corresponds to the actual digitized value obtained from the light sensor. This \"debug\" information is printed consecutively for the first few/last few sensor outputs. Otherwise, this info is printed when `k % 100 = 0` (every 100 scans). \n",
    "\n",
    "Don't worry about messages like `Time delta between captures in s: #`. This is printed a lot because the lab computers are kind of slow. \n",
    "\n",
    "The whole scanning process should take roughly 3 minutes. \n",
    "\n",
    "*Note: On the topic of non-idealities, our scans take so long because:*\n",
    "* We average sensor readings to improve the signal-to-noise ratio. Therefore we need to read more times.\n",
    "* As you'll learn in Module 2, capacitors take some time to charge and discharge. A capacitor acts as a \"low-pass filter.\" We used a 0.1$\\mu$F capacitor in our sensing circuit to \"smooth\" the output and suppress \"high-frequency\" noise. In order to give the capacitor time to \"settle\" (i.e. ~fully charge/discharge), we need to wait longer between scans. Otherwise, the sensor reading will also include some \"memory\" of the previous scan result, when we really want the reading to only be about the current scan. "
   ]
  },
  {
   "cell_type": "markdown",
   "metadata": {},
   "source": [
    "**<span style=\"color:red\">Not getting a good picture?</span>**\n",
    "\n",
    "If you selected the incorrect COM port, a lot more \"debug\" lines will be dumped. You might notice `Data: -1` or `Losing data! Consider increasing your timeout!` messages. Once you see these messages, **stop** the scan, **save** your Jupyter notebook, then **close the Jupyter notebook in your Terminal (Ctrl+C twice) and re-open it**. You'll lose any saved variables (not output images), but everything you need has been saved to a file. Rerun the following code block again, but **make sure you select the right COM port**. "
   ]
  },
  {
   "cell_type": "code",
   "execution_count": 9,
   "metadata": {
    "scrolled": true
   },
   "outputs": [
    {
     "name": "stdout",
     "output_type": "stream",
     "text": [
      "\n",
      "EE16A Imaging Lab\n",
      "\n",
      "Serial timeout in ms: 150\n",
      "Sleep time in ms: 120\n",
      "Projector brightness scale in percent: 100\n",
      "FPS: 40\n",
      "Image width: 32\n",
      "Image height: 32\n",
      "Mask file: saved_data/mask_identity.npy \n",
      "\n",
      "Checking serial connections...\n",
      "Available serial ports:\n",
      "1) /dev/tty.Bluetooth-Incoming-Port\n",
      "2) /dev/tty.usbmodem142203\n",
      "3) /dev/tty.usbmodem142201\n",
      "Select the port to use: 2\n",
      "\n",
      "Detected 2 screens\n",
      "Currently displaying on screen 1\n",
      "1) 1280 x 800\n",
      "2) 1920 x 1200\n",
      "Select the projector screen: 1\n",
      "\n",
      "Period in msecs:  25.0\n",
      "\n",
      "Starting scan 0... \n",
      "\n",
      "Loc: 0 Data: 124 \n",
      "Time delta between captures in s: 0.1360788345336914\n",
      "Loc: 1 Data: 125 \n",
      "Time delta between captures in s: 0.15794920921325684\n",
      "Loc: 2 Data: 125 \n",
      "Time delta between captures in s: 0.14103174209594727\n",
      "Loc: 3 Data: 125 \n",
      "Time delta between captures in s: 0.15407919883728027\n",
      "Loc: 4 Data: 125 \n",
      "Loc: 5 Data: 125 \n",
      "Loc: 6 Data: 125 \n",
      "Loc: 7 Data: 125 \n",
      "Loc: 8 Data: 125 \n",
      "Loc: 9 Data: 125 \n",
      "Loc: 100 Data: 125 \n",
      "Time delta between captures in s: 0.16447067260742188\n",
      "Time delta between captures in s: 0.16693806648254395\n",
      "Time delta between captures in s: 0.16208910942077637\n",
      "Time delta between captures in s: 0.1627960205078125\n",
      "Time delta between captures in s: 0.16528797149658203\n",
      "Loc: 200 Data: 124 \n",
      "Time delta between captures in s: 0.16242194175720215\n",
      "Time delta between captures in s: 0.16669988632202148\n",
      "Time delta between captures in s: 0.1661980152130127\n",
      "Time delta between captures in s: 0.16644787788391113\n",
      "Time delta between captures in s: 0.16713213920593262\n",
      "Time delta between captures in s: 0.16495895385742188\n",
      "Time delta between captures in s: 0.165024995803833\n",
      "Time delta between captures in s: 0.16225409507751465\n",
      "Time delta between captures in s: 0.1666872501373291\n",
      "Time delta between captures in s: 0.16694307327270508\n",
      "Time delta between captures in s: 0.16376185417175293\n",
      "Time delta between captures in s: 0.16649699211120605\n",
      "Time delta between captures in s: 0.16386914253234863\n",
      "Time delta between captures in s: 0.1644730567932129\n",
      "Time delta between captures in s: 0.1648259162902832\n",
      "Time delta between captures in s: 0.16806697845458984\n",
      "Time delta between captures in s: 0.1667468547821045\n",
      "Time delta between captures in s: 0.16715407371520996\n",
      "Time delta between captures in s: 0.16609787940979004\n",
      "Time delta between captures in s: 0.16231608390808105\n",
      "Time delta between captures in s: 0.16313982009887695\n",
      "Time delta between captures in s: 0.16217494010925293\n",
      "Time delta between captures in s: 0.16245818138122559\n",
      "Time delta between captures in s: 0.16663503646850586\n",
      "Time delta between captures in s: 0.16678309440612793\n",
      "Time delta between captures in s: 0.1651899814605713\n",
      "Time delta between captures in s: 0.16292309761047363\n",
      "Time delta between captures in s: 0.16340184211730957\n",
      "Time delta between captures in s: 0.1668071746826172\n",
      "Time delta between captures in s: 0.16590595245361328\n",
      "Time delta between captures in s: 0.16513991355895996\n",
      "Time delta between captures in s: 0.167449951171875\n",
      "Time delta between captures in s: 0.16469502449035645\n",
      "Time delta between captures in s: 0.16318726539611816\n",
      "Time delta between captures in s: 0.16494512557983398\n",
      "Time delta between captures in s: 0.16538190841674805\n",
      "Time delta between captures in s: 0.1676490306854248\n",
      "Loc: 300 Data: 126 \n",
      "Time delta between captures in s: 0.166917085647583\n",
      "Time delta between captures in s: 0.16318082809448242\n",
      "Loc: 400 Data: 125 \n",
      "Time delta between captures in s: 0.16250014305114746\n",
      "Time delta between captures in s: 0.16390419006347656\n",
      "Time delta between captures in s: 0.16649699211120605\n",
      "Time delta between captures in s: 0.16675806045532227\n",
      "Time delta between captures in s: 0.16520404815673828\n",
      "Time delta between captures in s: 0.16305780410766602\n",
      "Time delta between captures in s: 0.16394591331481934\n",
      "Time delta between captures in s: 0.16729402542114258\n",
      "Time delta between captures in s: 0.1668837070465088\n",
      "Time delta between captures in s: 0.1628100872039795\n",
      "Time delta between captures in s: 0.16332197189331055\n",
      "Time delta between captures in s: 0.16339612007141113\n",
      "Time delta between captures in s: 0.16690587997436523\n",
      "Time delta between captures in s: 0.16641998291015625\n",
      "Time delta between captures in s: 0.16272783279418945\n",
      "Time delta between captures in s: 0.16285300254821777\n",
      "Time delta between captures in s: 0.16287708282470703\n",
      "Time delta between captures in s: 0.16318321228027344\n",
      "Time delta between captures in s: 0.16584992408752441\n",
      "Time delta between captures in s: 0.16678881645202637\n",
      "Time delta between captures in s: 0.166762113571167\n",
      "Time delta between captures in s: 0.16691184043884277\n",
      "Time delta between captures in s: 0.1663680076599121\n",
      "Time delta between captures in s: 0.16442513465881348\n",
      "Time delta between captures in s: 0.16392803192138672\n",
      "Time delta between captures in s: 0.16482186317443848\n",
      "Time delta between captures in s: 0.16681289672851562\n",
      "Time delta between captures in s: 0.16646099090576172\n",
      "Loc: 500 Data: 126 \n",
      "Time delta between captures in s: 0.16478586196899414\n",
      "Time delta between captures in s: 0.16348505020141602\n",
      "Time delta between captures in s: 0.16558408737182617\n",
      "Time delta between captures in s: 0.1663811206817627\n",
      "Time delta between captures in s: 0.1667311191558838\n",
      "Time delta between captures in s: 0.166823148727417\n",
      "Time delta between captures in s: 0.16702604293823242\n",
      "Time delta between captures in s: 0.16448402404785156\n",
      "Time delta between captures in s: 0.16433310508728027\n",
      "Time delta between captures in s: 0.16691088676452637\n",
      "Time delta between captures in s: 0.16696405410766602\n",
      "Time delta between captures in s: 0.16250181198120117\n",
      "Time delta between captures in s: 0.16375398635864258\n",
      "Time delta between captures in s: 0.1626112461090088\n",
      "Time delta between captures in s: 0.16533207893371582\n",
      "Time delta between captures in s: 0.16267704963684082\n",
      "Time delta between captures in s: 0.16277813911437988\n",
      "Time delta between captures in s: 0.16417479515075684\n",
      "Time delta between captures in s: 0.16422390937805176\n",
      "Time delta between captures in s: 0.16511106491088867\n",
      "Time delta between captures in s: 0.16680383682250977\n",
      "Time delta between captures in s: 0.16689181327819824\n",
      "Time delta between captures in s: 0.1671900749206543\n",
      "Time delta between captures in s: 0.1667029857635498\n",
      "Time delta between captures in s: 0.16681790351867676\n",
      "Time delta between captures in s: 0.16626405715942383\n",
      "Time delta between captures in s: 0.1654369831085205\n",
      "Time delta between captures in s: 0.16580486297607422\n",
      "Time delta between captures in s: 0.1668229103088379\n",
      "Time delta between captures in s: 0.16625189781188965\n",
      "Time delta between captures in s: 0.16680383682250977\n",
      "Time delta between captures in s: 0.1669139862060547\n",
      "Time delta between captures in s: 0.16444706916809082\n",
      "Time delta between captures in s: 0.1667330265045166\n",
      "Time delta between captures in s: 0.16680502891540527\n",
      "Time delta between captures in s: 0.1667799949645996\n",
      "Time delta between captures in s: 0.16573381423950195\n",
      "Time delta between captures in s: 0.16295313835144043\n",
      "Time delta between captures in s: 0.1624441146850586\n",
      "Loc: 600 Data: 126 \n",
      "Time delta between captures in s: 0.16393518447875977\n",
      "Time delta between captures in s: 0.16503190994262695\n",
      "Time delta between captures in s: 0.1650228500366211\n",
      "Time delta between captures in s: 0.16453075408935547\n",
      "Time delta between captures in s: 0.1667618751525879\n",
      "Time delta between captures in s: 0.16680002212524414\n",
      "Time delta between captures in s: 0.1651461124420166\n",
      "Time delta between captures in s: 0.1667780876159668\n",
      "Time delta between captures in s: 0.16710901260375977\n",
      "Time delta between captures in s: 0.16711974143981934\n",
      "Time delta between captures in s: 0.1669297218322754\n",
      "Time delta between captures in s: 0.16692399978637695\n",
      "Time delta between captures in s: 0.16713690757751465\n",
      "Time delta between captures in s: 0.16696882247924805\n",
      "Time delta between captures in s: 0.16657495498657227\n",
      "Time delta between captures in s: 0.1663501262664795\n",
      "Time delta between captures in s: 0.16686201095581055\n",
      "Time delta between captures in s: 0.16448283195495605\n",
      "Time delta between captures in s: 0.16706490516662598\n",
      "Time delta between captures in s: 0.16569089889526367\n",
      "Time delta between captures in s: 0.16705584526062012\n",
      "Time delta between captures in s: 0.16714191436767578\n",
      "Time delta between captures in s: 0.16694188117980957\n"
     ]
    },
    {
     "name": "stdout",
     "output_type": "stream",
     "text": [
      "Time delta between captures in s: 0.16679024696350098\n",
      "Time delta between captures in s: 0.16677212715148926\n",
      "Loc: 700 Data: 126 \n",
      "Time delta between captures in s: 0.16596388816833496\n",
      "Time delta between captures in s: 0.16629672050476074\n",
      "Time delta between captures in s: 0.16663503646850586\n",
      "Time delta between captures in s: 0.1653609275817871\n",
      "Time delta between captures in s: 0.16423296928405762\n",
      "Time delta between captures in s: 0.1638197898864746\n",
      "Time delta between captures in s: 0.16287016868591309\n",
      "Time delta between captures in s: 0.16249608993530273\n",
      "Time delta between captures in s: 0.16594314575195312\n",
      "Time delta between captures in s: 0.16417193412780762\n",
      "Time delta between captures in s: 0.16687703132629395\n",
      "Time delta between captures in s: 0.16635608673095703\n",
      "Time delta between captures in s: 0.16510605812072754\n",
      "Time delta between captures in s: 0.16704201698303223\n",
      "Time delta between captures in s: 0.1671130657196045\n",
      "Time delta between captures in s: 0.16689085960388184\n",
      "Time delta between captures in s: 0.16683602333068848\n",
      "Time delta between captures in s: 0.16383099555969238\n",
      "Time delta between captures in s: 0.16408514976501465\n",
      "Time delta between captures in s: 0.16539478302001953\n",
      "Time delta between captures in s: 0.1641838550567627\n",
      "Time delta between captures in s: 0.16712713241577148\n",
      "Time delta between captures in s: 0.16689491271972656\n",
      "Time delta between captures in s: 0.16329312324523926\n",
      "Time delta between captures in s: 0.16674470901489258\n",
      "Time delta between captures in s: 0.16690826416015625\n",
      "Time delta between captures in s: 0.1648409366607666\n",
      "Time delta between captures in s: 0.1623220443725586\n",
      "Time delta between captures in s: 0.162614107131958\n",
      "Time delta between captures in s: 0.16231298446655273\n",
      "Time delta between captures in s: 0.16218185424804688\n",
      "Time delta between captures in s: 0.16609406471252441\n",
      "Time delta between captures in s: 0.16512274742126465\n",
      "Time delta between captures in s: 0.16243290901184082\n",
      "Time delta between captures in s: 0.16650915145874023\n",
      "Time delta between captures in s: 0.16680407524108887\n",
      "Time delta between captures in s: 0.16275501251220703\n",
      "Time delta between captures in s: 0.1635897159576416\n",
      "Loc: 800 Data: 124 \n",
      "Time delta between captures in s: 0.1628720760345459\n",
      "Loc: 900 Data: 124 \n",
      "Loc: 1000 Data: 124 \n",
      "Loc: 1017 Data: 125 \n",
      "Loc: 1018 Data: 124 \n",
      "Loc: 1019 Data: 124 \n",
      "Loc: 1020 Data: 124 \n",
      "Loc: 1021 Data: 124 \n",
      "Loc: 1022 Data: 124 \n",
      "Loc: 1023 Data: 124 \n",
      "\n",
      "Scan completed\n",
      "Scan time: 150.882 s\n",
      "Min time delta in s: 0.12421011924743652\n",
      "Max time delta in s: 0.16806697845458984\n",
      "Length of extra_data:  0\n",
      "Extra Data:  []\n",
      "Saving data as saved_data/sensor_readingsHSingle_100_0.npy\n"
     ]
    },
    {
     "data": {
      "image/png": "[encoded data removed]",
      "text/plain": [
       "<Figure size 432x288 with 1 Axes>"
      ]
     },
     "metadata": {
      "needs_background": "light"
     },
     "output_type": "display_data"
    },
    {
     "name": "stdout",
     "output_type": "stream",
     "text": [
      "Min sensor reading: 122.0\n",
      "Max sensor reading: 127.0\n"
     ]
    }
   ],
   "source": [
    "%run scripts/helpers.py\n",
    "%matplotlib inline\n",
    "\n",
    "%run capture_image.py --mask saved_data/mask_identity.npy --out saved_data/sensor_readingsHSingle --width 32 --height 32"
   ]
  },
  {
   "cell_type": "markdown",
   "metadata": {},
   "source": [
    "**<span style=\"color:red\">Recreate the image from the sensor readings obtained with `HSingle`. DO NOT move on until you see your expected image (will be noisy, that's ok)</span>**\n",
    "\n",
    "**<span style=\"color:red\">Image too light/dark?</span>**  Try limiting light in your room or on your setup.  One trick is to cover the screen and light sensor with a hoodie or blanket to limit outside light (make sure the breadboard doesn't fall when you do this!).  Another way to to wait until night time and turn off all of the lights."
   ]
  },
  {
   "cell_type": "code",
   "execution_count": 14,
   "metadata": {},
   "outputs": [
    {
     "data": {
      "text/plain": [
       "<matplotlib.image.AxesImage at 0x7fc85c2d8518>"
      ]
     },
     "execution_count": 14,
     "metadata": {},
     "output_type": "execute_result"
    },
    {
     "data": {
      "image/png": "[encoded data removed]",
      "text/plain": [
       "<Figure size 432x288 with 1 Axes>"
      ]
     },
     "metadata": {
      "needs_background": "light"
     },
     "output_type": "display_data"
    }
   ],
   "source": [
    "# Sensor readings\n",
    "sr = np.load('saved_data/sensor_readingsHSingle_100_0.npy')\n",
    "HSingle = np.load('saved_data/Hsingle.npy')\n",
    "\n",
    "# TODO: Create the image vector from `HSingle` and `sr`\n",
    "# Hint: Because `HSingle` is a special matrix, technically you do not need to perform any matrix operations\n",
    "iv = sr# YOUR CODE HERE \n",
    "\n",
    "img = np.reshape(iv, (32, 32))\n",
    "plt.imshow(img[6:], cmap = 'gray', interpolation = 'nearest')"
   ]
  },
  {
   "cell_type": "markdown",
   "metadata": {},
   "source": [
    "<a id='realImaging'></a>\n",
    "## <a id ='realImaging'><span style = \"color: blue\">Real Multipixel Imaging</span></a>\n",
    "\n",
    "In the previous section, we scanned our image one pixel at a time. Now we are going to use the two matrices you examined earlier to scan. Run the following blocks to scan your image with each of the two matrices"
   ]
  },
  {
   "cell_type": "markdown",
   "metadata": {},
   "source": [
    "### <a id ='hadamard'><span style = \"color: blue\">Hadamard Matrix</span></a>"
   ]
  },
  {
   "cell_type": "code",
   "execution_count": 15,
   "metadata": {},
   "outputs": [],
   "source": [
    "# Inputs\n",
    "#  `shape`: 2-element array. shape[0] = # of rows; shape[1] = # of columns\n",
    "# Outputs\n",
    "#  `H`: 2D Hadamard matrix (Hadamard)\n",
    "def createHadamardMatrix(shape, plot=True):\n",
    "    from scipy.linalg import hadamard\n",
    "    # Hadamard matrix with +1, -1 entries\n",
    "    # Note that the matrix order should be 2^r\n",
    "    H = hadamard(shape[0])\n",
    "    # Needs to be binary\n",
    "    H = (H + 1) / 2\n",
    "\n",
    "    if(plot):\n",
    "        plt.imshow(H, cmap = 'gray', interpolation = 'nearest')\n",
    "        plt.title('Hadamard Matrix :)')\n",
    "    return H;"
   ]
  },
  {
   "cell_type": "code",
   "execution_count": 16,
   "metadata": {},
   "outputs": [
    {
     "data": {
      "image/png": "[encoded data removed]",
      "text/plain": [
       "<Figure size 432x288 with 1 Axes>"
      ]
     },
     "metadata": {
      "needs_background": "light"
     },
     "output_type": "display_data"
    }
   ],
   "source": [
    "sz = 32\n",
    "hadamardH = createHadamardMatrix((sz*sz,sz*sz))"
   ]
  },
  {
   "cell_type": "code",
   "execution_count": 17,
   "metadata": {},
   "outputs": [],
   "source": [
    "masked_image_hadamard = project_H_onto_image(hadamardH, im, 32)\n",
    "np.save('saved_data/mask_hadamard.npy', masked_image_hadamard)\n",
    "np.save('saved_data/hadamardH.npy', hadamardH)"
   ]
  },
  {
   "cell_type": "code",
   "execution_count": 18,
   "metadata": {},
   "outputs": [
    {
     "name": "stdout",
     "output_type": "stream",
     "text": [
      "\n",
      "EE16A Imaging Lab\n",
      "\n",
      "Serial timeout in ms: 150\n",
      "Sleep time in ms: 120\n",
      "Projector brightness scale in percent: 100\n",
      "FPS: 40\n",
      "Image width: 32\n",
      "Image height: 32\n",
      "Mask file: saved_data/mask_hadamard.npy \n",
      "\n",
      "Checking serial connections...\n",
      "Available serial ports:\n",
      "1) /dev/tty.Bluetooth-Incoming-Port\n",
      "2) /dev/tty.usbmodem142203\n",
      "3) /dev/tty.usbmodem142201\n",
      "Select the port to use: 2\n",
      "\n",
      "Detected 2 screens\n",
      "Currently displaying on screen 1\n",
      "1) 1280 x 800\n",
      "2) 1920 x 1200\n",
      "Select the projector screen: 1\n",
      "\n",
      "Period in msecs:  25.0\n",
      "\n",
      "Starting scan 0... \n",
      "\n",
      "Loc: 0 Data: 1272 \n",
      "Time delta between captures in s: 0.12604618072509766\n",
      "Loc: 1 Data: 745 \n",
      "Time delta between captures in s: 0.16680383682250977\n",
      "Loc: 2 Data: 723 \n",
      "Time delta between captures in s: 0.126662015914917\n",
      "Loc: 3 Data: 747 \n",
      "Time delta between captures in s: 0.16629505157470703\n",
      "Loc: 4 Data: 709 \n",
      "Loc: 5 Data: 769 \n",
      "Time delta between captures in s: 0.16383981704711914\n",
      "Loc: 6 Data: 744 \n",
      "Loc: 7 Data: 753 \n",
      "Time delta between captures in s: 0.1636369228363037\n",
      "Loc: 8 Data: 691 \n",
      "Loc: 9 Data: 762 \n",
      "Time delta between captures in s: 0.16907286643981934\n",
      "Time delta between captures in s: 0.16660189628601074\n",
      "Time delta between captures in s: 0.16679596900939941\n",
      "Time delta between captures in s: 0.16509413719177246\n",
      "Time delta between captures in s: 0.16679096221923828\n",
      "Time delta between captures in s: 0.16376686096191406\n",
      "Time delta between captures in s: 0.16430282592773438\n",
      "Time delta between captures in s: 0.16266512870788574\n",
      "Time delta between captures in s: 0.16314697265625\n",
      "Time delta between captures in s: 0.16508817672729492\n",
      "Time delta between captures in s: 0.16352009773254395\n",
      "Time delta between captures in s: 0.16512680053710938\n",
      "Time delta between captures in s: 0.16470909118652344\n",
      "Time delta between captures in s: 0.16686725616455078\n",
      "Time delta between captures in s: 0.16292405128479004\n",
      "Time delta between captures in s: 0.16376018524169922\n",
      "Time delta between captures in s: 0.16702008247375488\n",
      "Time delta between captures in s: 0.16383886337280273\n",
      "Time delta between captures in s: 0.16670727729797363\n",
      "Time delta between captures in s: 0.16672897338867188\n",
      "Time delta between captures in s: 0.1632680892944336\n",
      "Time delta between captures in s: 0.16376304626464844\n",
      "Time delta between captures in s: 0.16524505615234375\n",
      "Time delta between captures in s: 0.16691112518310547\n",
      "Time delta between captures in s: 0.16681504249572754\n",
      "Time delta between captures in s: 0.16689419746398926\n",
      "Time delta between captures in s: 0.16681408882141113\n",
      "Time delta between captures in s: 0.16690921783447266\n",
      "Time delta between captures in s: 0.16498088836669922\n",
      "Time delta between captures in s: 0.1685028076171875\n",
      "Loc: 100 Data: 761 \n",
      "Time delta between captures in s: 0.16675806045532227\n",
      "Time delta between captures in s: 0.1669909954071045\n",
      "Time delta between captures in s: 0.16681194305419922\n",
      "Time delta between captures in s: 0.16686582565307617\n",
      "Time delta between captures in s: 0.16686201095581055\n",
      "Time delta between captures in s: 0.16684222221374512\n",
      "Time delta between captures in s: 0.1668250560760498\n",
      "Time delta between captures in s: 0.1659548282623291\n",
      "Time delta between captures in s: 0.1650381088256836\n",
      "Time delta between captures in s: 0.1667487621307373\n",
      "Time delta between captures in s: 0.1647789478302002\n",
      "Time delta between captures in s: 0.16685080528259277\n",
      "Time delta between captures in s: 0.1629800796508789\n",
      "Time delta between captures in s: 0.16263818740844727\n",
      "Time delta between captures in s: 0.16663289070129395\n",
      "Time delta between captures in s: 0.16685009002685547\n",
      "Time delta between captures in s: 0.16406989097595215\n",
      "Time delta between captures in s: 0.16211986541748047\n",
      "Time delta between captures in s: 0.16232681274414062\n",
      "Time delta between captures in s: 0.1624138355255127\n",
      "Time delta between captures in s: 0.1647648811340332\n",
      "Time delta between captures in s: 0.16334891319274902\n",
      "Time delta between captures in s: 0.16685914993286133\n",
      "Time delta between captures in s: 0.16702604293823242\n",
      "Time delta between captures in s: 0.16689682006835938\n",
      "Time delta between captures in s: 0.1668999195098877\n",
      "Time delta between captures in s: 0.1667468547821045\n",
      "Time delta between captures in s: 0.16382193565368652\n",
      "Time delta between captures in s: 0.16708111763000488\n",
      "Time delta between captures in s: 0.16677498817443848\n",
      "Time delta between captures in s: 0.16499805450439453\n",
      "Time delta between captures in s: 0.16636896133422852\n",
      "Time delta between captures in s: 0.16682910919189453\n",
      "Time delta between captures in s: 0.1668558120727539\n",
      "Time delta between captures in s: 0.1625969409942627\n",
      "Time delta between captures in s: 0.1640169620513916\n",
      "Time delta between captures in s: 0.16611528396606445\n",
      "Time delta between captures in s: 0.16661810874938965\n",
      "Time delta between captures in s: 0.16699790954589844\n",
      "Time delta between captures in s: 0.16315317153930664\n",
      "Time delta between captures in s: 0.16407394409179688\n",
      "Time delta between captures in s: 0.16710877418518066\n",
      "Loc: 200 Data: 791 \n",
      "Time delta between captures in s: 0.16671109199523926\n",
      "Time delta between captures in s: 0.16216182708740234\n",
      "Time delta between captures in s: 0.1633918285369873\n",
      "Time delta between captures in s: 0.16410589218139648\n",
      "Time delta between captures in s: 0.16272711753845215\n",
      "Time delta between captures in s: 0.16274690628051758\n",
      "Time delta between captures in s: 0.16669678688049316\n",
      "Time delta between captures in s: 0.16680669784545898\n",
      "Time delta between captures in s: 0.16702485084533691\n",
      "Time delta between captures in s: 0.16695404052734375\n",
      "Time delta between captures in s: 0.1667919158935547\n",
      "Time delta between captures in s: 0.16689085960388184\n",
      "Time delta between captures in s: 0.1666257381439209\n",
      "Time delta between captures in s: 0.16646814346313477\n",
      "Time delta between captures in s: 0.1662309169769287\n",
      "Time delta between captures in s: 0.16672086715698242\n",
      "Time delta between captures in s: 0.16570115089416504\n",
      "Time delta between captures in s: 0.16667485237121582\n",
      "Time delta between captures in s: 0.1654348373413086\n",
      "Time delta between captures in s: 0.16405296325683594\n",
      "Time delta between captures in s: 0.16228294372558594\n",
      "Time delta between captures in s: 0.1627788543701172\n",
      "Time delta between captures in s: 0.16392207145690918\n",
      "Time delta between captures in s: 0.16674399375915527\n",
      "Time delta between captures in s: 0.16692185401916504\n",
      "Time delta between captures in s: 0.16570615768432617\n",
      "Time delta between captures in s: 0.16406798362731934\n",
      "Time delta between captures in s: 0.1658649444580078\n",
      "Time delta between captures in s: 0.1670830249786377\n",
      "Time delta between captures in s: 0.16698813438415527\n",
      "Time delta between captures in s: 0.16577720642089844\n",
      "Time delta between captures in s: 0.16692495346069336\n",
      "Time delta between captures in s: 0.1664142608642578\n",
      "Time delta between captures in s: 0.16415810585021973\n",
      "Time delta between captures in s: 0.16472816467285156\n",
      "Loc: 300 Data: 752 \n",
      "Time delta between captures in s: 0.16698694229125977\n",
      "Time delta between captures in s: 0.16681909561157227\n",
      "Time delta between captures in s: 0.1668858528137207\n",
      "Time delta between captures in s: 0.16671371459960938\n",
      "Time delta between captures in s: 0.16685104370117188\n",
      "Time delta between captures in s: 0.16274714469909668\n",
      "Time delta between captures in s: 0.16581106185913086\n",
      "Time delta between captures in s: 0.16672396659851074\n",
      "Time delta between captures in s: 0.1669161319732666\n",
      "Time delta between captures in s: 0.16705703735351562\n",
      "Time delta between captures in s: 0.16673612594604492\n",
      "Time delta between captures in s: 0.16636085510253906\n",
      "Time delta between captures in s: 0.1656959056854248\n",
      "Time delta between captures in s: 0.16382527351379395\n",
      "Time delta between captures in s: 0.16690897941589355\n",
      "Time delta between captures in s: 0.1667931079864502\n",
      "Time delta between captures in s: 0.16672396659851074\n",
      "Time delta between captures in s: 0.16280603408813477\n",
      "Time delta between captures in s: 0.16379380226135254\n",
      "Time delta between captures in s: 0.16704392433166504\n",
      "Time delta between captures in s: 0.16669607162475586\n",
      "Time delta between captures in s: 0.16403770446777344\n",
      "Time delta between captures in s: 0.16462206840515137\n",
      "Time delta between captures in s: 0.16713285446166992\n",
      "Time delta between captures in s: 0.16674590110778809\n",
      "Time delta between captures in s: 0.16378378868103027\n"
     ]
    },
    {
     "name": "stdout",
     "output_type": "stream",
     "text": [
      "Time delta between captures in s: 0.16705799102783203\n",
      "Time delta between captures in s: 0.16658782958984375\n",
      "Time delta between captures in s: 0.16685104370117188\n",
      "Time delta between captures in s: 0.16677331924438477\n",
      "Time delta between captures in s: 0.16699481010437012\n",
      "Time delta between captures in s: 0.16553878784179688\n",
      "Time delta between captures in s: 0.16706418991088867\n",
      "Time delta between captures in s: 0.1638472080230713\n",
      "Time delta between captures in s: 0.16714215278625488\n",
      "Time delta between captures in s: 0.16703486442565918\n",
      "Time delta between captures in s: 0.1667778491973877\n",
      "Time delta between captures in s: 0.1638329029083252\n",
      "Time delta between captures in s: 0.1621229648590088\n",
      "Time delta between captures in s: 0.16694903373718262\n",
      "Time delta between captures in s: 0.16679811477661133\n",
      "Time delta between captures in s: 0.166107177734375\n",
      "Time delta between captures in s: 0.1669139862060547\n",
      "Time delta between captures in s: 0.1664597988128662\n",
      "Time delta between captures in s: 0.16678285598754883\n",
      "Time delta between captures in s: 0.16606402397155762\n",
      "Time delta between captures in s: 0.16351699829101562\n",
      "Loc: 400 Data: 797 \n",
      "Time delta between captures in s: 0.16677093505859375\n",
      "Time delta between captures in s: 0.1669623851776123\n",
      "Time delta between captures in s: 0.16713809967041016\n",
      "Time delta between captures in s: 0.16686224937438965\n",
      "Time delta between captures in s: 0.16766095161437988\n",
      "Time delta between captures in s: 0.16693520545959473\n",
      "Time delta between captures in s: 0.16607069969177246\n",
      "Time delta between captures in s: 0.16414594650268555\n",
      "Time delta between captures in s: 0.16598200798034668\n",
      "Time delta between captures in s: 0.16245317459106445\n",
      "Time delta between captures in s: 0.16314697265625\n",
      "Time delta between captures in s: 0.16558599472045898\n",
      "Time delta between captures in s: 0.16681194305419922\n",
      "Time delta between captures in s: 0.16561484336853027\n",
      "Time delta between captures in s: 0.16249394416809082\n",
      "Time delta between captures in s: 0.16529583930969238\n",
      "Time delta between captures in s: 0.16707515716552734\n",
      "Time delta between captures in s: 0.16691017150878906\n",
      "Time delta between captures in s: 0.1664280891418457\n",
      "Time delta between captures in s: 0.1629788875579834\n",
      "Time delta between captures in s: 0.16347885131835938\n",
      "Time delta between captures in s: 0.1668531894683838\n",
      "Time delta between captures in s: 0.16689276695251465\n",
      "Time delta between captures in s: 0.16692566871643066\n",
      "Time delta between captures in s: 0.16681289672851562\n",
      "Time delta between captures in s: 0.1637589931488037\n",
      "Time delta between captures in s: 0.16417789459228516\n",
      "Time delta between captures in s: 0.16222429275512695\n",
      "Time delta between captures in s: 0.16263890266418457\n",
      "Time delta between captures in s: 0.16477274894714355\n",
      "Time delta between captures in s: 0.1645371913909912\n",
      "Time delta between captures in s: 0.16704893112182617\n",
      "Time delta between captures in s: 0.16680335998535156\n",
      "Time delta between captures in s: 0.16683483123779297\n",
      "Time delta between captures in s: 0.1668689250946045\n",
      "Time delta between captures in s: 0.16290998458862305\n",
      "Time delta between captures in s: 0.16327381134033203\n",
      "Time delta between captures in s: 0.16269373893737793\n",
      "Time delta between captures in s: 0.16643691062927246\n",
      "Loc: 500 Data: 753 \n",
      "Time delta between captures in s: 0.16672325134277344\n",
      "Time delta between captures in s: 0.1663670539855957\n",
      "Time delta between captures in s: 0.1670219898223877\n",
      "Time delta between captures in s: 0.16707611083984375\n",
      "Time delta between captures in s: 0.16711711883544922\n",
      "Time delta between captures in s: 0.16681194305419922\n",
      "Time delta between captures in s: 0.16361498832702637\n",
      "Time delta between captures in s: 0.1645197868347168\n",
      "Time delta between captures in s: 0.16465306282043457\n",
      "Time delta between captures in s: 0.1667311191558838\n",
      "Time delta between captures in s: 0.16684913635253906\n",
      "Time delta between captures in s: 0.16261672973632812\n",
      "Time delta between captures in s: 0.1642920970916748\n",
      "Time delta between captures in s: 0.16522479057312012\n",
      "Time delta between captures in s: 0.1666860580444336\n",
      "Time delta between captures in s: 0.16514992713928223\n",
      "Time delta between captures in s: 0.16499924659729004\n",
      "Time delta between captures in s: 0.16468572616577148\n",
      "Time delta between captures in s: 0.16397690773010254\n",
      "Loc: 600 Data: 766 \n",
      "Time delta between captures in s: 0.16342997550964355\n",
      "Time delta between captures in s: 0.1621837615966797\n",
      "Time delta between captures in s: 0.16318702697753906\n",
      "Loc: 700 Data: 754 \n",
      "Time delta between captures in s: 0.16444897651672363\n",
      "Time delta between captures in s: 0.16694116592407227\n",
      "Time delta between captures in s: 0.16596627235412598\n",
      "Time delta between captures in s: 0.1645340919494629\n",
      "Time delta between captures in s: 0.16220402717590332\n",
      "Time delta between captures in s: 0.16295599937438965\n",
      "Time delta between captures in s: 0.16331791877746582\n",
      "Time delta between captures in s: 0.16242408752441406\n",
      "Time delta between captures in s: 0.1628270149230957\n",
      "Time delta between captures in s: 0.16407990455627441\n",
      "Time delta between captures in s: 0.16281509399414062\n",
      "Time delta between captures in s: 0.1671302318572998\n",
      "Time delta between captures in s: 0.1635429859161377\n",
      "Time delta between captures in s: 0.16342592239379883\n",
      "Time delta between captures in s: 0.16615891456604004\n",
      "Time delta between captures in s: 0.16679024696350098\n",
      "Time delta between captures in s: 0.169633150100708\n",
      "Time delta between captures in s: 0.1671290397644043\n",
      "Time delta between captures in s: 0.1670691967010498\n",
      "Time delta between captures in s: 0.16680431365966797\n",
      "Time delta between captures in s: 0.16640710830688477\n",
      "Time delta between captures in s: 0.1638050079345703\n",
      "Time delta between captures in s: 0.16709280014038086\n",
      "Time delta between captures in s: 0.16697382926940918\n",
      "Time delta between captures in s: 0.16697096824645996\n",
      "Time delta between captures in s: 0.16677284240722656\n",
      "Time delta between captures in s: 0.16701793670654297\n",
      "Time delta between captures in s: 0.16672372817993164\n",
      "Time delta between captures in s: 0.16679883003234863\n",
      "Time delta between captures in s: 0.16379213333129883\n",
      "Time delta between captures in s: 0.16684484481811523\n",
      "Time delta between captures in s: 0.16404390335083008\n",
      "Loc: 800 Data: 762 \n",
      "Time delta between captures in s: 0.1621260643005371\n",
      "Time delta between captures in s: 0.1628279685974121\n",
      "Time delta between captures in s: 0.16446614265441895\n",
      "Time delta between captures in s: 0.16716885566711426\n",
      "Time delta between captures in s: 0.16376018524169922\n",
      "Time delta between captures in s: 0.16254901885986328\n",
      "Time delta between captures in s: 0.16657209396362305\n",
      "Time delta between captures in s: 0.16552019119262695\n",
      "Time delta between captures in s: 0.16390776634216309\n",
      "Time delta between captures in s: 0.16562891006469727\n",
      "Time delta between captures in s: 0.16719293594360352\n",
      "Loc: 900 Data: 755 \n",
      "Time delta between captures in s: 0.16413593292236328\n",
      "Time delta between captures in s: 0.16684913635253906\n",
      "Time delta between captures in s: 0.16352486610412598\n",
      "Time delta between captures in s: 0.16579985618591309\n",
      "Time delta between captures in s: 0.1654210090637207\n",
      "Time delta between captures in s: 0.16414523124694824\n",
      "Time delta between captures in s: 0.16711115837097168\n",
      "Loc: 1000 Data: 756 \n",
      "Time delta between captures in s: 0.16681671142578125\n",
      "Time delta between captures in s: 0.16246390342712402\n",
      "Time delta between captures in s: 0.16253089904785156\n",
      "Time delta between captures in s: 0.16237282752990723\n",
      "Time delta between captures in s: 0.1652240753173828\n",
      "Time delta between captures in s: 0.16513299942016602\n",
      "Time delta between captures in s: 0.1670839786529541\n",
      "Loc: 1017 Data: 733 \n",
      "Loc: 1018 Data: 730 \n",
      "Time delta between captures in s: 0.16641902923583984\n",
      "Loc: 1019 Data: 766 \n",
      "Loc: 1020 Data: 757 \n",
      "Time delta between captures in s: 0.16528701782226562\n",
      "Loc: 1021 Data: 752 \n",
      "Loc: 1022 Data: 765 \n",
      "Time delta between captures in s: 0.16553092002868652\n",
      "Loc: 1023 Data: 752 \n",
      "\n",
      "Scan completed\n",
      "Scan time: 150.986 s\n",
      "Min time delta in s: 0.12429404258728027\n",
      "Max time delta in s: 0.169633150100708\n",
      "Length of extra_data:  0\n",
      "Extra Data:  []\n",
      "Saving data as saved_data/sensor_readingsHhadamard_100_0.npy\n"
     ]
    },
    {
     "data": {
      "image/png": "[encoded data removed]",
      "text/plain": [
       "<Figure size 432x288 with 1 Axes>"
      ]
     },
     "metadata": {
      "needs_background": "light"
     },
     "output_type": "display_data"
    },
    {
     "name": "stdout",
     "output_type": "stream",
     "text": [
      "Min sensor reading: 535.0\n",
      "Max sensor reading: 1272.0\n"
     ]
    }
   ],
   "source": [
    "%run scripts/helpers.py\n",
    "%matplotlib inline\n",
    "\n",
    "# Run scan\n",
    "%run capture_image.py --mask saved_data/mask_hadamard.npy --out saved_data/sensor_readingsHhadamard --width 32 --height 32"
   ]
  },
  {
   "cell_type": "markdown",
   "metadata": {},
   "source": [
    "**<span style=\"color:red\">Let's reconstruct your image. Based off of your simulation results, is this the reconstruction quality that you expected using `randomH`?</span>**"
   ]
  },
  {
   "cell_type": "code",
   "execution_count": 19,
   "metadata": {},
   "outputs": [
    {
     "data": {
      "image/png": "[encoded data removed]",
      "text/plain": [
       "<Figure size 432x288 with 1 Axes>"
      ]
     },
     "metadata": {
      "needs_background": "light"
     },
     "output_type": "display_data"
    }
   ],
   "source": [
    "sr = np.load('saved_data/sensor_readingsHhadamard_100_0.npy')\n",
    "idealReconstruction(H = hadamardH, matrixName = 'hadamardH', s = sr, realImaging = False, X = sz, Y = sz)"
   ]
  },
  {
   "cell_type": "markdown",
   "metadata": {},
   "source": [
    "### <a id ='random'><span style = \"color: blue\">Random Matrix</span></a>"
   ]
  },
  {
   "cell_type": "markdown",
   "metadata": {},
   "source": [
    "Now let's try using a random H matrix.  Do you think the random H will work better or worse?\n"
   ]
  },
  {
   "cell_type": "code",
   "execution_count": 20,
   "metadata": {},
   "outputs": [
    {
     "data": {
      "image/png": "[encoded data removed]",
      "text/plain": [
       "<Figure size 432x288 with 1 Axes>"
      ]
     },
     "metadata": {
      "needs_background": "light"
     },
     "output_type": "display_data"
    }
   ],
   "source": [
    "sz = 32\n",
    "randomH = generateRandomBinaryMask(500, X = 32, Y = 32)"
   ]
  },
  {
   "cell_type": "code",
   "execution_count": 21,
   "metadata": {},
   "outputs": [],
   "source": [
    "masked_image_random = project_H_onto_image(randomH, im, 32)\n",
    "np.save('saved_data/mask_random.npy', masked_image_random)\n",
    "np.save('saved_data/randomH.npy', randomH)"
   ]
  },
  {
   "cell_type": "code",
   "execution_count": 23,
   "metadata": {},
   "outputs": [
    {
     "name": "stdout",
     "output_type": "stream",
     "text": [
      "\n",
      "EE16A Imaging Lab\n",
      "\n",
      "Serial timeout in ms: 150\n",
      "Sleep time in ms: 120\n",
      "Projector brightness scale in percent: 100\n",
      "FPS: 40\n",
      "Image width: 32\n",
      "Image height: 32\n",
      "Mask file: saved_data/mask_random.npy \n",
      "\n",
      "Checking serial connections...\n",
      "Available serial ports:\n",
      "1) /dev/tty.Bluetooth-Incoming-Port\n",
      "2) /dev/tty.usbmodem142203\n",
      "3) /dev/tty.usbmodem142201\n",
      "Select the port to use: 2\n",
      "\n",
      "Detected 2 screens\n",
      "Currently displaying on screen 1\n",
      "1) 1280 x 800\n",
      "2) 1920 x 1200\n",
      "Select the projector screen: 1\n",
      "\n",
      "Period in msecs:  25.0\n",
      "\n",
      "Starting scan 0... \n",
      "\n",
      "Loc: 0 Data: 723 \n",
      "Time delta between captures in s: 0.13393688201904297\n",
      "Loc: 1 Data: 704 \n",
      "Time delta between captures in s: 0.1603682041168213\n",
      "Loc: 2 Data: 740 \n",
      "Time delta between captures in s: 0.13348770141601562\n",
      "Loc: 3 Data: 766 \n",
      "Time delta between captures in s: 0.16202712059020996\n",
      "Loc: 4 Data: 736 \n",
      "Loc: 5 Data: 782 \n",
      "Time delta between captures in s: 0.16481900215148926\n",
      "Loc: 6 Data: 746 \n",
      "Loc: 7 Data: 734 \n",
      "Time delta between captures in s: 0.16310811042785645\n",
      "Loc: 8 Data: 760 \n",
      "Loc: 9 Data: 752 \n",
      "Time delta between captures in s: 0.16240882873535156\n",
      "Time delta between captures in s: 0.16247797012329102\n",
      "Time delta between captures in s: 0.16538190841674805\n",
      "Time delta between captures in s: 0.16697096824645996\n",
      "Time delta between captures in s: 0.16497492790222168\n",
      "Time delta between captures in s: 0.16218090057373047\n",
      "Time delta between captures in s: 0.16585516929626465\n",
      "Time delta between captures in s: 0.16703295707702637\n",
      "Time delta between captures in s: 0.18705511093139648\n",
      "Time delta between captures in s: 0.18012285232543945\n",
      "Time delta between captures in s: 0.16729116439819336\n",
      "Time delta between captures in s: 0.16867899894714355\n",
      "Time delta between captures in s: 0.16633176803588867\n",
      "Loc: 100 Data: 740 \n",
      "Time delta between captures in s: 0.1669318675994873\n",
      "Time delta between captures in s: 0.16700100898742676\n",
      "Time delta between captures in s: 0.1667630672454834\n",
      "Time delta between captures in s: 0.17849493026733398\n",
      "Time delta between captures in s: 0.16709685325622559\n",
      "Time delta between captures in s: 0.16275787353515625\n",
      "Time delta between captures in s: 0.16507887840270996\n",
      "Time delta between captures in s: 0.16344499588012695\n",
      "Time delta between captures in s: 0.1649918556213379\n",
      "Time delta between captures in s: 0.1668078899383545\n",
      "Time delta between captures in s: 0.165496826171875\n",
      "Time delta between captures in s: 0.1637890338897705\n",
      "Time delta between captures in s: 0.16499781608581543\n",
      "Time delta between captures in s: 0.16545915603637695\n",
      "Time delta between captures in s: 0.16207623481750488\n",
      "Time delta between captures in s: 0.16382288932800293\n",
      "Time delta between captures in s: 0.1654500961303711\n",
      "Time delta between captures in s: 0.1637439727783203\n",
      "Time delta between captures in s: 0.16313695907592773\n",
      "Time delta between captures in s: 0.16302824020385742\n",
      "Time delta between captures in s: 0.16227197647094727\n",
      "Time delta between captures in s: 0.16350674629211426\n",
      "Time delta between captures in s: 0.16240406036376953\n",
      "Time delta between captures in s: 0.16316008567810059\n",
      "Time delta between captures in s: 0.16451120376586914\n",
      "Time delta between captures in s: 0.16439318656921387\n",
      "Time delta between captures in s: 0.16676092147827148\n",
      "Time delta between captures in s: 0.16666817665100098\n",
      "Time delta between captures in s: 0.1668851375579834\n",
      "Time delta between captures in s: 0.16731691360473633\n",
      "Time delta between captures in s: 0.1670389175415039\n",
      "Loc: 200 Data: 732 \n",
      "Time delta between captures in s: 0.16680502891540527\n",
      "Time delta between captures in s: 0.16733503341674805\n",
      "Time delta between captures in s: 0.1637270450592041\n",
      "Time delta between captures in s: 0.1670238971710205\n",
      "Time delta between captures in s: 0.16682195663452148\n",
      "Time delta between captures in s: 0.1650540828704834\n",
      "Time delta between captures in s: 0.16672372817993164\n",
      "Time delta between captures in s: 0.1650240421295166\n",
      "Time delta between captures in s: 0.1659080982208252\n",
      "Time delta between captures in s: 0.16595196723937988\n",
      "Time delta between captures in s: 0.1635739803314209\n",
      "Time delta between captures in s: 0.16663503646850586\n",
      "Time delta between captures in s: 0.16682219505310059\n",
      "Time delta between captures in s: 0.16614603996276855\n",
      "Time delta between captures in s: 0.16269898414611816\n",
      "Time delta between captures in s: 0.16513395309448242\n",
      "Time delta between captures in s: 0.1679248809814453\n",
      "Time delta between captures in s: 0.16692280769348145\n",
      "Time delta between captures in s: 0.1668260097503662\n",
      "Time delta between captures in s: 0.16454005241394043\n",
      "Time delta between captures in s: 0.16344189643859863\n",
      "Time delta between captures in s: 0.1667461395263672\n",
      "Time delta between captures in s: 0.16404199600219727\n",
      "Time delta between captures in s: 0.16601324081420898\n",
      "Time delta between captures in s: 0.16225981712341309\n",
      "Time delta between captures in s: 0.1627211570739746\n",
      "Time delta between captures in s: 0.1648249626159668\n",
      "Time delta between captures in s: 0.1629171371459961\n",
      "Loc: 300 Data: 720 \n",
      "Time delta between captures in s: 0.16669487953186035\n",
      "Time delta between captures in s: 0.16864514350891113\n",
      "Time delta between captures in s: 0.16667509078979492\n",
      "Time delta between captures in s: 0.1658477783203125\n",
      "Time delta between captures in s: 0.1624588966369629\n",
      "Time delta between captures in s: 0.1668257713317871\n",
      "Time delta between captures in s: 0.16445589065551758\n",
      "Time delta between captures in s: 0.16694021224975586\n",
      "Loc: 400 Data: 751 \n",
      "Time delta between captures in s: 0.16673803329467773\n",
      "Time delta between captures in s: 0.16585397720336914\n",
      "Time delta between captures in s: 0.16566824913024902\n",
      "Time delta between captures in s: 0.16479110717773438\n",
      "Time delta between captures in s: 0.16295909881591797\n",
      "Time delta between captures in s: 0.16450190544128418\n",
      "Time delta between captures in s: 0.16220402717590332\n",
      "Time delta between captures in s: 0.16613197326660156\n",
      "Time delta between captures in s: 0.16623783111572266\n",
      "Time delta between captures in s: 0.1669940948486328\n",
      "Loc: 500 Data: 735 \n",
      "Time delta between captures in s: 0.1669600009918213\n",
      "Time delta between captures in s: 0.164442777633667\n",
      "Time delta between captures in s: 0.16263389587402344\n",
      "Time delta between captures in s: 0.16691875457763672\n",
      "Time delta between captures in s: 0.16696405410766602\n",
      "Time delta between captures in s: 0.16753196716308594\n",
      "Time delta between captures in s: 0.16674590110778809\n",
      "Time delta between captures in s: 0.1670362949371338\n",
      "Time delta between captures in s: 0.16216492652893066\n",
      "Time delta between captures in s: 0.16211295127868652\n",
      "Time delta between captures in s: 0.16547203063964844\n",
      "Time delta between captures in s: 0.1667778491973877\n",
      "Time delta between captures in s: 0.16418218612670898\n",
      "Time delta between captures in s: 0.1665191650390625\n",
      "Time delta between captures in s: 0.16295218467712402\n",
      "Time delta between captures in s: 0.16385793685913086\n",
      "Time delta between captures in s: 0.16705679893493652\n",
      "Time delta between captures in s: 0.16683387756347656\n",
      "Time delta between captures in s: 0.16693806648254395\n",
      "Time delta between captures in s: 0.166853666305542\n",
      "Time delta between captures in s: 0.16683006286621094\n",
      "Loc: 600 Data: 755 \n",
      "Time delta between captures in s: 0.1623983383178711\n",
      "Time delta between captures in s: 0.16578006744384766\n",
      "Time delta between captures in s: 0.16695308685302734\n",
      "Time delta between captures in s: 0.16378402709960938\n",
      "Time delta between captures in s: 0.16645598411560059\n",
      "Time delta between captures in s: 0.16701793670654297\n",
      "Time delta between captures in s: 0.16337895393371582\n",
      "Time delta between captures in s: 0.16312599182128906\n",
      "Time delta between captures in s: 0.166795015335083\n",
      "Time delta between captures in s: 0.1671440601348877\n",
      "Time delta between captures in s: 0.1670839786529541\n",
      "Time delta between captures in s: 0.17006802558898926\n",
      "Time delta between captures in s: 0.16704893112182617\n",
      "Time delta between captures in s: 0.1671450138092041\n",
      "Time delta between captures in s: 0.16637420654296875\n",
      "Time delta between captures in s: 0.1651308536529541\n",
      "Time delta between captures in s: 0.16706585884094238\n",
      "Time delta between captures in s: 0.16472387313842773\n",
      "Time delta between captures in s: 0.1628577709197998\n",
      "Time delta between captures in s: 0.16324090957641602\n",
      "Time delta between captures in s: 0.16215801239013672\n"
     ]
    },
    {
     "name": "stdout",
     "output_type": "stream",
     "text": [
      "Time delta between captures in s: 0.16706299781799316\n",
      "Time delta between captures in s: 0.16641902923583984\n",
      "Time delta between captures in s: 0.16699004173278809\n",
      "Time delta between captures in s: 0.16669416427612305\n",
      "Time delta between captures in s: 0.16672611236572266\n",
      "Time delta between captures in s: 0.1653759479522705\n",
      "Time delta between captures in s: 0.16686701774597168\n",
      "Time delta between captures in s: 0.16680598258972168\n",
      "Time delta between captures in s: 0.16559386253356934\n",
      "Time delta between captures in s: 0.16483807563781738\n",
      "Time delta between captures in s: 0.16398286819458008\n",
      "Time delta between captures in s: 0.16445088386535645\n",
      "Time delta between captures in s: 0.16460275650024414\n",
      "Time delta between captures in s: 0.1668548583984375\n",
      "Time delta between captures in s: 0.1645498275756836\n",
      "Time delta between captures in s: 0.16669201850891113\n",
      "Time delta between captures in s: 0.1664888858795166\n",
      "Time delta between captures in s: 0.1658177375793457\n",
      "Time delta between captures in s: 0.16684412956237793\n",
      "Time delta between captures in s: 0.16665983200073242\n",
      "Loc: 700 Data: 727 \n",
      "Time delta between captures in s: 0.1669611930847168\n",
      "Time delta between captures in s: 0.1667778491973877\n",
      "Time delta between captures in s: 0.16693496704101562\n",
      "Time delta between captures in s: 0.1669328212738037\n",
      "Time delta between captures in s: 0.16720795631408691\n",
      "Time delta between captures in s: 0.16700100898742676\n",
      "Time delta between captures in s: 0.1667482852935791\n",
      "Time delta between captures in s: 0.16415691375732422\n",
      "Time delta between captures in s: 0.16382884979248047\n",
      "Time delta between captures in s: 0.16256093978881836\n",
      "Time delta between captures in s: 0.16266894340515137\n",
      "Time delta between captures in s: 0.16400408744812012\n",
      "Time delta between captures in s: 0.16480112075805664\n",
      "Time delta between captures in s: 0.16669631004333496\n",
      "Time delta between captures in s: 0.16700005531311035\n",
      "Time delta between captures in s: 0.16440725326538086\n",
      "Time delta between captures in s: 0.16214704513549805\n",
      "Time delta between captures in s: 0.162689208984375\n",
      "Time delta between captures in s: 0.16258788108825684\n",
      "Time delta between captures in s: 0.16346192359924316\n",
      "Time delta between captures in s: 0.16394400596618652\n",
      "Time delta between captures in s: 0.16701912879943848\n",
      "Time delta between captures in s: 0.16712284088134766\n",
      "Time delta between captures in s: 0.1632976531982422\n",
      "Time delta between captures in s: 0.16402220726013184\n",
      "Time delta between captures in s: 0.1653270721435547\n",
      "Time delta between captures in s: 0.1668558120727539\n",
      "Time delta between captures in s: 0.1667022705078125\n",
      "Time delta between captures in s: 0.16685175895690918\n",
      "Time delta between captures in s: 0.16609477996826172\n",
      "Time delta between captures in s: 0.16315293312072754\n",
      "Time delta between captures in s: 0.16704916954040527\n",
      "Time delta between captures in s: 0.16696715354919434\n",
      "Time delta between captures in s: 0.16654205322265625\n",
      "Time delta between captures in s: 0.16646790504455566\n",
      "Time delta between captures in s: 0.16718697547912598\n",
      "Time delta between captures in s: 0.16684794425964355\n",
      "Time delta between captures in s: 0.16677021980285645\n",
      "Loc: 800 Data: 748 \n",
      "Time delta between captures in s: 0.16356205940246582\n",
      "Time delta between captures in s: 0.16607999801635742\n",
      "Time delta between captures in s: 0.16321110725402832\n",
      "Time delta between captures in s: 0.16286373138427734\n",
      "Time delta between captures in s: 0.16403579711914062\n",
      "Time delta between captures in s: 0.166733980178833\n",
      "Time delta between captures in s: 0.16699600219726562\n",
      "Time delta between captures in s: 0.1671428680419922\n",
      "Time delta between captures in s: 0.16679024696350098\n",
      "Time delta between captures in s: 0.16407203674316406\n",
      "Time delta between captures in s: 0.16343307495117188\n",
      "Time delta between captures in s: 0.16674518585205078\n",
      "Time delta between captures in s: 0.16629505157470703\n",
      "Time delta between captures in s: 0.1669750213623047\n",
      "Time delta between captures in s: 0.16679096221923828\n",
      "Time delta between captures in s: 0.16678190231323242\n",
      "Time delta between captures in s: 0.16680097579956055\n",
      "Time delta between captures in s: 0.1668407917022705\n",
      "Time delta between captures in s: 0.16719293594360352\n",
      "Time delta between captures in s: 0.1667778491973877\n",
      "Time delta between captures in s: 0.1669929027557373\n",
      "Time delta between captures in s: 0.16672921180725098\n",
      "Time delta between captures in s: 0.16674184799194336\n",
      "Time delta between captures in s: 0.16716384887695312\n",
      "Time delta between captures in s: 0.1667337417602539\n",
      "Time delta between captures in s: 0.16696906089782715\n",
      "Time delta between captures in s: 0.1668109893798828\n",
      "Time delta between captures in s: 0.1657710075378418\n",
      "Time delta between captures in s: 0.16672301292419434\n",
      "Time delta between captures in s: 0.1668109893798828\n",
      "Time delta between captures in s: 0.1672377586364746\n",
      "Time delta between captures in s: 0.16687893867492676\n",
      "Time delta between captures in s: 0.1655111312866211\n",
      "Time delta between captures in s: 0.1671750545501709\n",
      "Time delta between captures in s: 0.16670608520507812\n",
      "Time delta between captures in s: 0.16747283935546875\n",
      "Time delta between captures in s: 0.16688108444213867\n",
      "Time delta between captures in s: 0.1655569076538086\n",
      "Time delta between captures in s: 0.16276216506958008\n",
      "Time delta between captures in s: 0.16479206085205078\n",
      "Time delta between captures in s: 0.16384315490722656\n",
      "Time delta between captures in s: 0.1645970344543457\n",
      "Time delta between captures in s: 0.1640021800994873\n",
      "Time delta between captures in s: 0.1635148525238037\n",
      "Time delta between captures in s: 0.16546273231506348\n",
      "Time delta between captures in s: 0.16705608367919922\n",
      "Time delta between captures in s: 0.16377925872802734\n",
      "Time delta between captures in s: 0.16466617584228516\n",
      "Time delta between captures in s: 0.16720914840698242\n",
      "Loc: 900 Data: 740 \n",
      "Time delta between captures in s: 0.16680383682250977\n",
      "Time delta between captures in s: 0.16685009002685547\n",
      "Time delta between captures in s: 0.1654949188232422\n",
      "Time delta between captures in s: 0.16268682479858398\n",
      "Time delta between captures in s: 0.1622469425201416\n",
      "Time delta between captures in s: 0.16440105438232422\n",
      "Time delta between captures in s: 0.16435694694519043\n",
      "Time delta between captures in s: 0.16669511795043945\n",
      "Time delta between captures in s: 0.16684484481811523\n",
      "Time delta between captures in s: 0.16653227806091309\n",
      "Time delta between captures in s: 0.16722607612609863\n",
      "Time delta between captures in s: 0.16680192947387695\n",
      "Time delta between captures in s: 0.1669008731842041\n",
      "Time delta between captures in s: 0.16549301147460938\n",
      "Time delta between captures in s: 0.16257596015930176\n",
      "Time delta between captures in s: 0.16375494003295898\n",
      "Time delta between captures in s: 0.16545486450195312\n",
      "Time delta between captures in s: 0.16556572914123535\n",
      "Time delta between captures in s: 0.16300010681152344\n",
      "Time delta between captures in s: 0.16376972198486328\n",
      "Time delta between captures in s: 0.16552090644836426\n",
      "Time delta between captures in s: 0.1663649082183838\n",
      "Time delta between captures in s: 0.16612005233764648\n",
      "Time delta between captures in s: 0.1672358512878418\n",
      "Time delta between captures in s: 0.16693782806396484\n",
      "Time delta between captures in s: 0.16393375396728516\n",
      "Time delta between captures in s: 0.1641089916229248\n",
      "Time delta between captures in s: 0.16261506080627441\n",
      "Time delta between captures in s: 0.16231894493103027\n",
      "Time delta between captures in s: 0.16568493843078613\n",
      "Time delta between captures in s: 0.16327118873596191\n",
      "Loc: 1000 Data: 734 \n",
      "Time delta between captures in s: 0.16232585906982422\n",
      "Time delta between captures in s: 0.16414999961853027\n",
      "Time delta between captures in s: 0.16535615921020508\n",
      "Time delta between captures in s: 0.16704773902893066\n",
      "Time delta between captures in s: 0.16676092147827148\n",
      "Time delta between captures in s: 0.1648850440979004\n",
      "Time delta between captures in s: 0.1640481948852539\n",
      "Time delta between captures in s: 0.16675114631652832\n",
      "Loc: 1017 Data: 749 \n",
      "Loc: 1018 Data: 722 \n",
      "Loc: 1019 Data: 744 \n",
      "Loc: 1020 Data: 765 \n",
      "Loc: 1021 Data: 724 \n",
      "Time delta between captures in s: 0.16698431968688965\n",
      "Loc: 1022 Data: 729 \n",
      "Loc: 1023 Data: 735 \n",
      "\n",
      "Scan completed\n",
      "Scan time: 151.347 s\n",
      "Min time delta in s: 0.12473607063293457\n",
      "Max time delta in s: 0.18705511093139648\n",
      "Length of extra_data:  0\n",
      "Extra Data:  []\n",
      "Saving data as saved_data/sensor_readingsHrandom_100_0.npy\n"
     ]
    },
    {
     "data": {
      "image/png": "[encoded data removed]",
      "text/plain": [
       "<Figure size 432x288 with 1 Axes>"
      ]
     },
     "metadata": {
      "needs_background": "light"
     },
     "output_type": "display_data"
    },
    {
     "name": "stdout",
     "output_type": "stream",
     "text": [
      "Min sensor reading: 669.0\n",
      "Max sensor reading: 823.0\n"
     ]
    }
   ],
   "source": [
    "%run scripts/helpers.py\n",
    "%matplotlib inline\n",
    "\n",
    "# Run scan\n",
    "%run capture_image.py --mask saved_data/mask_random.npy --out saved_data/sensor_readingsHrandom --width 32 --height 32"
   ]
  },
  {
   "cell_type": "markdown",
   "metadata": {},
   "source": [
    "**<span style=\"color:red\">Let's reconstruct your image. Based off of your simulation results, is this the reconstruction quality that you expected using `randomH`?</span>**"
   ]
  },
  {
   "cell_type": "code",
   "execution_count": 24,
   "metadata": {},
   "outputs": [
    {
     "data": {
      "image/png": "[encoded data removed]",
      "text/plain": [
       "<Figure size 432x288 with 1 Axes>"
      ]
     },
     "metadata": {
      "needs_background": "light"
     },
     "output_type": "display_data"
    }
   ],
   "source": [
    "sr = np.load('saved_data/sensor_readingsHrandom_100_0.npy')\n",
    "idealReconstruction(H = hadamardH, matrixName = 'randomH', s = sr, X = sz, Y = sz)"
   ]
  },
  {
   "cell_type": "markdown",
   "metadata": {},
   "source": [
    "**<span style=\"color:red\">Comment on your reconstruction results when using `randomH` and `hadamardH`. In real imaging, which matrix did better? Did this match your expectations from simulation? Why? How did you expect multipixel imaging to compare to single pixel imaging from Imaging 2? Did multiplexing do better or worse than the single pixel scan?  Why?</span>**"
   ]
  },
  {
   "cell_type": "markdown",
   "metadata": {},
   "source": [
    "**<span style=\"color:red\">Your Answer Here!</span>**"
   ]
  }
 ],
 "metadata": {
  "anaconda-cloud": {},
  "kernelspec": {
   "display_name": "Python 3",
   "language": "python",
   "name": "python3"
  },
  "language_info": {
   "codemirror_mode": {
    "name": "ipython",
    "version": 3
   },
   "file_extension": ".py",
   "mimetype": "text/x-python",
   "name": "python",
   "nbconvert_exporter": "python",
   "pygments_lexer": "ipython3",
   "version": "3.7.6"
  }
 },
 "nbformat": 4,
 "nbformat_minor": 1
}
